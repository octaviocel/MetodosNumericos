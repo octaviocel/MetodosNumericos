{
 "cells": [
  {
   "cell_type": "code",
   "execution_count": 10,
   "metadata": {
    "collapsed": false
   },
   "outputs": [
   ],
   "source": [
    "from math import exp,log,sqrt\n",
    "import numpy as np\n",
    "\n",
    "def Fs(x1,x2):\n",
    "    f1 = exp(x1)-exp(x2)\n",
    "    f2 = log(1+x1+x2)\n",
    "    return np.matrix([[f1],[f2]])"
   ]
  },
  {
   "cell_type": "code",
   "execution_count": 11,
   "metadata": {
    "collapsed": false
   },
   "outputs": [
   ],
   "source": [
    "def Js(x1,x2):\n",
    "    j11 = exp(x1)\n",
    "    j12 = -exp(x2)\n",
    "    j21 = 1/(1+x1+x2)\n",
    "    j22 = 1/(1+x1+x2)\n",
    "    J = np.matrix([[j11,j12],[j21,j22]]) #matriz \n",
    "    Jv = np.linalg.inv(J)    #inversa\n",
    "    return [J,Jv]"
   ]
  },
  {
   "cell_type": "code",
   "execution_count": 16,
   "metadata": {
    "collapsed": false
   },
   "outputs": [
    {
     "name": "stdout",
     "output_type": "stream",
     "text": [
      "k \t x1 \t\t x2 \t\t\t ||x(k)-x(k-1)\n",
      "1 \t -0.4422 \t -0.4422 \t\n",
      "2 \t -0.3174 \t -0.3174 \t\n",
      "3 \t -0.1335 \t -0.1335 \t\n",
      "4 \t -0.0197 \t -0.0197 \t\n",
      "5 \t -0.0004 \t -0.0004 \t\n",
      "6 \t -0.0000 \t -0.0000 \t\n",
      "7 \t -0.0000 \t -0.0000 \t\n",
      "YA\n"
     ]
    }
   ],
   "source": [
    "P0= [0.8,0.8]\n",
    "k=0\n",
    "x1, x2 =P0\n",
    "tole = 10e-6\n",
    "N=100\n",
    "\n",
    "print(\"k \\t x1 \\t\\t x2 \\t\\t\\t ||x(k)-x(k-1)\")\n",
    "\n",
    "while k<N:\n",
    "    J, Ji = Js(x1,x2)\n",
    "    F = Fs(x1,x2)\n",
    "    Y = -Ji*F\n",
    "    X = np.matrix(P0).T+Y\n",
    "    x1,x2 = float(X[0][0]),float(X[1][0])\n",
    "    magnitud = sqrt(((x1-P0[0])**2)+((x2-P0[1])**2))\n",
    "    P0 = [x1,x2]\n",
    "    k+=1\n",
    "    print(\"{0:1d} \\t {1:1.4f} \\t {2:1.4f} \\t\".format(k,x1,x2))\n",
    "    if sqrt(Y[0][0]**2+Y[1][0]**2)<tole:\n",
    "        print(\"YA\")\n",
    "        break\n"
   ]
  },
  {
   "cell_type": "code",
   "execution_count": 0,
   "metadata": {
    "collapsed": false
   },
   "outputs": [
   ],
   "source": [
   ]
  }
 ],
 "metadata": {
  "kernelspec": {
   "display_name": "Python 3 (system-wide)",
   "language": "python",
   "metadata": {
    "cocalc": {
     "description": "Python 3 programming language",
     "priority": 100,
     "url": "https://www.python.org/"
    }
   },
   "name": "python3",
   "resource_dir": "/ext/jupyter/kernels/python3"
  },
  "language_info": {
   "codemirror_mode": {
    "name": "ipython",
    "version": 3
   },
   "file_extension": ".py",
   "mimetype": "text/x-python",
   "name": "python",
   "nbconvert_exporter": "python",
   "pygments_lexer": "ipython3",
   "version": "3.8.10"
  }
 },
 "nbformat": 4,
 "nbformat_minor": 4
}